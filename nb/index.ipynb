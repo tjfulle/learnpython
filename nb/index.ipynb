{
 "cells": [
  {
   "cell_type": "markdown",
   "metadata": {},
   "source": [
    "# Index\n",
    "\n",
    "[A](#A) [B](#B) [C](#C) [D](#D) [E](#E) [F](#F) [G](#G) [H](#H) [I](#I) [J](#J) [K](#K) [L](#L) [M](#M) [N](#N) [O](#O) [P](#P) [Q](#Q) [R](#R) [S](#S) [T](#T) [U](#U) [V](#V) [W](#W) [X](#X) [Y](#Y) [Z](#Z)"
   ]
  },
  {
   "cell_type": "markdown",
   "metadata": {},
   "source": [
    "<a name='A'></a>\n",
    "## A\n",
    "\n",
    "- Algorithms [1](the_way_of_the_program.ipynb#algo)\n",
    "- Argument (function) [1](functions.ipynb#arg), [2](functions.ipynb#arg1)"
   ]
  },
  {
   "cell_type": "markdown",
   "metadata": {},
   "source": [
    "<a name='B'></a>\n",
    "## B\n",
    "\n",
    "- `break` (statement) [1](iteration.ipynb#break)"
   ]
  },
  {
   "cell_type": "markdown",
   "metadata": {},
   "source": [
    "<a name='C'></a>\n",
    "## C\n",
    "\n",
    "- Comments [1](variables_expressions_and_statements.ipynb#comments)\n",
    "- Composition [1](functions.ipynb#composition)\n",
    "- Compiled languages [1](the_way_of_the_program.ipynb#compile)\n",
    "- Concatenation [1 (string)](variables_expressions_and_statements.ipynb#strconcat)\n",
    "- Conditional execution [1](the_way_of_the_program.ipynb#exec)"
   ]
  },
  {
   "cell_type": "markdown",
   "metadata": {},
   "source": [
    "<a name='D'></a>\n",
    "## D\n",
    "\n",
    "- Debugging [1](the_way_of_the_program.ipynb#debug), [2](the_way_of_the_program.ipynb#debug1), [3](the_way_of_the_program.ipynb#debug2)\n",
    "- Debugging (bisection) [1](iteration.ipynb#bisecdebug)\n",
    "- `def` keyword [1](functions.ipynb#def)\n",
    "- Dot operator [1](functions.ipynb#dot_notation)"
   ]
  },
  {
   "cell_type": "markdown",
   "metadata": {},
   "source": [
    "<a name='E'></a>\n",
    "## E\n",
    "\n",
    "- `enumerate` (builtin function) [1](lists.ipynb#enumerate)\n",
    "- Exception [1](functions.ipynb#exception)\n",
    "- Expressions [1](variables_expressions_and_statements.ipynb#expr)"
   ]
  },
  {
   "cell_type": "markdown",
   "metadata": {},
   "source": [
    "<a name='F'></a>\n",
    "## F\n",
    "\n",
    "- File IO [1](files.ipynb#filechap)\n",
    "- `float` (builtin function) [1](functions.ipynb#float)\n",
    "- `float` (type) [1](variables_expressions_and_statements.ipynb#float)\n",
    "- Floor division [1](variables_expressions_and_statements.ipynb#floor_div)\n",
    "- Flow (program) [1](the_way_of_the_program.ipynb#flow)\n",
    "- `for` (statement) [1](strings.ipynb#for)\n",
    "- format (string method) [1](files.ipynb#format)\n",
    "- `from` (importing) [1](functions.ipynb#from)\n",
    "- Function [1](functions.ipynb#funcchap)\n",
    "- Function call [1](functions.ipynb#function)\n",
    "- Function object [1](functions.ipynb#funobj)"
   ]
  },
  {
   "cell_type": "markdown",
   "metadata": {},
   "source": [
    "<a name='H'></a>\n",
    "## H\n",
    "\n",
    "- Header (function) [1](functions.ipynb#header)\n",
    "- Hello world [1](the_way_of_the_program.ipynb#hello_world)\n",
    "- High level language [1](the_way_of_the_program.ipynb#highlev)"
   ]
  },
  {
   "cell_type": "markdown",
   "metadata": {},
   "source": [
    "<a name='I'></a>\n",
    "## I\n",
    "\n",
    "- Immutable [1](strings.ipynb#immutable)\n",
    "- Incremental development [1](fruitful_functions#incdev)\n",
    "- Indentation [1](functions.ipynb#indentation)\n",
    "- Infinite loop [1](iteration.ipynb#infiniloop)\n",
    "- Input (program) [1](the_way_of_the_program.ipynb#input)\n",
    "- `int` (builtin function) [1](functions.ipynb#int)\n",
    "- `int` (type) [1](variables_expressions_and_statements.ipynb#int)\n",
    "- Interactive mode [1](the_way_of_the_program.ipynb#interact), [2](variables_expressions_and_statements.ipynb#interactive)\n",
    "- Interpreted languages [1](the_way_of_the_program.ipynb#interp)\n",
    "- Interpreter [1](the_way_of_the_program.ipynb#interp)"
   ]
  },
  {
   "cell_type": "markdown",
   "metadata": {},
   "source": [
    "<a name='L'></a>\n",
    "## L\n",
    "\n",
    "- Local variables [1](functions.ipynb#local)\n",
    "- Low level language [1](the_way_of_the_program.ipynb#lowlev)"
   ]
  },
  {
   "cell_type": "markdown",
   "metadata": {},
   "source": [
    "<a name='M'></a>\n",
    "## M\n",
    "\n",
    "- Math [1](the_way_of_the_program.ipynb#math)\n",
    "- `math` module [1](functions.ipynb#math)\n",
    "- Module [1](functions.ipynb#module)"
   ]
  },
  {
   "cell_type": "markdown",
   "metadata": {},
   "source": [
    "<a name='O'></a>\n",
    "## O\n",
    "\n",
    "- Object code [1](the_way_of_the_program.ipynb#object)\n",
    "- Operators [1](variables_expressions_and_statements.ipynb#ops)\n",
    "- `os` (module) [1](files.ipynb#os)\n",
    "- `os.path` (module) [1](files.ipynb#os.path)\n",
    "- Output (program) [1](the_way_of_the_program.ipynb#output)"
   ]
  },
  {
   "cell_type": "markdown",
   "metadata": {},
   "source": [
    "<a name='P'></a>\n",
    "\n",
    "## P\n",
    "\n",
    "- Parameters [1](the_way_of_the_program.ipynb#params)\n",
    "- Parse [1](the_way_of_the_program.ipynb#parse)\n",
    "- `pickle` (module) [1](files.ipynb#pickle)\n",
    "- Print function [1](the_way_of_the_program.ipynb#print_fun)\n",
    "- Print statement [1](the_way_of_the_program.ipynb#print_stmt)\n",
    "- Program (computer) [1](the_way_of_the_program.ipynb#program)\n",
    "- Prompt (python) [1](the_way_of_the_program.ipynb#prompt)\n",
    "- Python 3 vs. Python 2 [1](the_way_of_the_program.ipynb#py3vp2)"
   ]
  },
  {
   "cell_type": "markdown",
   "metadata": {},
   "source": [
    "<a name='Q'></a>\n",
    "## Q\n",
    "\n",
    "- Quotation marks [1](functions.ipynb#quotation_marks)"
   ]
  },
  {
   "cell_type": "markdown",
   "metadata": {},
   "source": [
    "<a name='R'></a>\n",
    "## R\n",
    "\n",
    "- Raw input [1](conditionals_and_recursion.ipynb#input)\n",
    "- Reading code [1](the_way_of_the_program.ipynb#reading)\n",
    "- Repetition [1](the_way_of_the_program.ipynb#repetition)\n",
    "- Return value [1](functions.ipynb#retval)\n",
    "- `return` (statement) [1](fruitful_functions.ipynb#retstmt)\n",
    "- Runtime error [1](the_way_of_the_program.ipynb#runtimeerr)"
   ]
  },
  {
   "cell_type": "markdown",
   "metadata": {},
   "source": [
    "<a name='S'></a>\n",
    "## S\n",
    "\n",
    "- Script [1](the_way_of_the_program#script1)\n",
    "- Script mode [1](the_way_of_the_program#script), [2](variables_expressions_and_statements.ipynb#script)\n",
    "- Semantic error [1](the_way_of_the_program.ipynb#semanticerr)\n",
    "- Source code [1](the_way_of_the_program.ipynb#source)\n",
    "- Square root [1](iteration.ipynb#sqrt)\n",
    "- Statements [1](variables_expressions_and_statements.ipynb#stmt)\n",
    "- `str` (builtin function) [1](functions.ipynb#str)\n",
    "- `str` (type) [1](variables_expressions_and_statements.ipynb#str)\n",
    "- String (operations) [1](variables_expressions_and_statements.ipynb#stringops)\n",
    "- Strings [1](strings.ipynb)\n",
    "- Suite (code) [1](functions.ipynb#suite)\n",
    "- Syntax errors [1](the_way_of_the_program.ipynb#syntaxerr), [2](variables_expressions_and_statements.ipynb#syntaxerr)"
   ]
  },
  {
   "cell_type": "markdown",
   "metadata": {},
   "source": [
    "<a name='T'></a>\n",
    "## T\n",
    "\n",
    "- Traceback [1](functions.ipynb#traceback)\n",
    "- `type` (builtin function) [1](functions.ipynb#type)\n",
    "- Types [1](variables_expressions_and_statements.ipynb#types)"
   ]
  },
  {
   "cell_type": "markdown",
   "metadata": {},
   "source": [
    "<a name='U'></a>\n",
    "## U\n",
    "\n",
    "- User defined functions [1](functions.ipynb#userfun)"
   ]
  },
  {
   "cell_type": "markdown",
   "metadata": {},
   "source": [
    "<a name='V'></a>\n",
    "## V\n",
    "\n",
    "- Value [1](variables_expressions_and_statements.ipynb#value)\n",
    "- Variables [1](variables_expressions_and_statements.ipynb#vars)"
   ]
  },
  {
   "cell_type": "markdown",
   "metadata": {},
   "source": [
    "<a name='W'></a>\n",
    "## W\n",
    "\n",
    "- `while` (statement) [1](iteration.ipynb#while)\n",
    "- Whitespace [1](variables_expressions_and_statements.ipynb#white)"
   ]
  },
  {
   "cell_type": "code",
   "execution_count": null,
   "metadata": {
    "collapsed": true
   },
   "outputs": [],
   "source": []
  }
 ],
 "metadata": {
  "kernelspec": {
   "display_name": "Python 3",
   "language": "python",
   "name": "python3"
  },
  "language_info": {
   "codemirror_mode": {
    "name": "ipython",
    "version": 3
   },
   "file_extension": ".py",
   "mimetype": "text/x-python",
   "name": "python",
   "nbconvert_exporter": "python",
   "pygments_lexer": "ipython3"
  }
 },
 "nbformat": 4,
 "nbformat_minor": 0
}
