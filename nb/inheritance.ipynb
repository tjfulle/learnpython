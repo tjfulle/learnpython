{
 "cells": [
  {
   "cell_type": "markdown",
   "metadata": {},
   "source": [
    "# Inheritance\n",
    "\n",
    "In this chapter I present classes to represent playing cards, decks of cards, and poker hands. If you don’t play poker, you can read about it at <http://en.wikipedia.org/wiki/Poker>, but you don’t have to; I’ll tell you what you need to know for the exercises.\n",
    "\n",
    "If you are not familiar with Anglo-American playing cards, you can read about them at <http://en.wikipedia.org/wiki/Playing_cards>."
   ]
  },
  {
   "cell_type": "markdown",
   "metadata": {},
   "source": [
    "## Card objects\n",
    "\n",
    "There are fifty-two cards in a deck, each of which belongs to one of four suits and one of thirteen ranks. The suits are Spades, Hearts, Diamonds, and Clubs (in descending order in bridge). The ranks are Ace, 2, 3, 4, 5, 6, 7, 8, 9, 10, Jack, Queen, and King. Depending on the game that you are playing, an Ace may be higher than King or lower than 2.\n",
    "\n",
    "If we want to define a new object to represent a playing card, it is obvious what the attributes should be: ``rank`` and ``suit``. It is not as obvious what type the attributes should be. One possibility is to use strings containing words like `'Spade'` for suits and `'Queen'` for ranks. One problem with this implementation is that it would not be easy to compare cards to see which had a higher rank or suit.\n",
    "\n",
    "An alternative is to use integers to [encode](glossary.ipynb#encode) the ranks and suits. In this context, “encode” means that we are going to define a mapping between numbers and suits, or between numbers and ranks. This kind of encoding is not meant to be a secret (that would be\n",
    "“encryption”).\n",
    "\n",
    "For example, this table shows the suits and the corresponding integer codes:\n",
    "\n",
    "<table style=\"border:0px\">\n",
    "  <tr> <td> Spades $\\mapsto$  3 </td> </tr>\n",
    "  <tr> <td>Hearts $\\mapsto$  2 </td> </tr>\n",
    "  <tr> <td>Diamonds $\\mapsto$  1 </td> </tr>\n",
    "  <tr> <td>Clubs $\\mapsto$  0 </td> </tr>\n",
    "</table>\n",
    "\n",
    "This code makes it easy to compare cards; because higher suits map to higher numbers, we can compare suits by comparing their codes.\n",
    "\n",
    "The mapping for ranks is fairly obvious; each of the numerical ranks maps to the corresponding integer, and for face cards:\n",
    "\n",
    "<table style=\"border:0px;\">\n",
    "  <tr> <td>Jack $\\mapsto$  11 </td> </tr>\n",
    "  <tr> <td>Queen $\\mapsto$  12 </td> </tr>\n",
    "  <tr> <td>King $\\mapsto$  13 </td> </tr>\n",
    "</table>\n",
    "\n",
    "I am using the $\\mapsto$ symbol to make it clear that these mappings are not part of the Python program. They are part of the program design, but they don’t appear explicitly in the code.\n",
    "\n",
    "The class definition for ``Card`` looks like this:"
   ]
  },
  {
   "cell_type": "code",
   "execution_count": null,
   "metadata": {
    "collapsed": true
   },
   "outputs": [],
   "source": [
    "class Card(object):\n",
    "    \"\"\"Represents a standard playing card.\"\"\"\n",
    "\n",
    "    def __init__(self, suit=0, rank=2):\n",
    "        self.suit = suit\n",
    "        self.rank = rank"
   ]
  },
  {
   "cell_type": "markdown",
   "metadata": {},
   "source": [
    "As usual, the init method takes an optional parameter for each attribute. The default card is the 2 of Clubs.\n",
    "\n",
    "To create a Card, you call ``Card`` with the suit and rank of the card you want."
   ]
  },
  {
   "cell_type": "code",
   "execution_count": null,
   "metadata": {
    "collapsed": true
   },
   "outputs": [],
   "source": [
    "queen_of_diamonds = Card(1, 12)"
   ]
  },
  {
   "cell_type": "markdown",
   "metadata": {},
   "source": [
    "## Class attributes\n",
    "\n",
    "In order to print Card objects in a way that people can easily read, we need a mapping from the integer codes to the corresponding ranks and suits. A natural way to do that is with lists of strings. We assign these lists to [class attributes](glossary.ipynb#class_attribute):"
   ]
  },
  {
   "cell_type": "code",
   "execution_count": null,
   "metadata": {
    "collapsed": true
   },
   "outputs": [],
   "source": [
    "class Card(object):\n",
    "    \"\"\"Represents a standard playing card.\"\"\"\n",
    "    suit_names = ['Clubs', 'Diamonds', 'Hearts', 'Spades']\n",
    "    rank_names = [None, 'Ace', '2', '3', '4', '5', '6', '7',\n",
    "                  '8', '9', '10', 'Jack', 'Queen', 'King']\n",
    "\n",
    "    def __init__(self, suit=0, rank=2):\n",
    "        self.suit = suit\n",
    "        self.rank = rank\n",
    "\n",
    "    def __str__(self):\n",
    "        return '%s of %s' % (Card.rank_names[self.rank],\n",
    "                             Card.suit_names[self.suit])"
   ]
  },
  {
   "cell_type": "markdown",
   "metadata": {},
   "source": [
    "Variables like `suit_names` and `rank_names`, which are defined inside a class but outside of any method, are called class attributes because they are associated with the class object ``Card``.\n",
    "\n",
    "This term distinguishes them from variables like ``suit`` and ``rank``, which are called [instance attributes](glossary.ipynb#instance_attribute) because they are associated with a particular instance.\n",
    "\n",
    "Both kinds of attribute are accessed using dot notation. For example, in `__str__`, ``self`` is a Card object, and ``self.rank`` is its rank. Similarly, ``Card`` is a class object, and `Card.rank_names` is a list of strings associated with the class.\n",
    "\n",
    "Every card has its own ``suit`` and ``rank``, but there is only one copy of `suit_names` and `rank_names`.\n",
    "\n",
    "Putting it all together, the expression `Card.rank_names[self.rank]` means “use the attribute ``rank`` from the object ``self`` as an index into the list `rank_names` from the class ``Card``, and select the appropriate string.”\n",
    "\n",
    "The first element of `rank_names` is ``None`` because there is no card with rank zero. By including ``None`` as a place-keeper, we get a mapping with the nice property that the index 2 maps to the string `'2'`, and so on. To avoid this tweak, we could have used a dictionary instead of a list.\n",
    "\n",
    "With the methods we have so far, we can create and print cards:"
   ]
  },
  {
   "cell_type": "code",
   "execution_count": null,
   "metadata": {
    "collapsed": false
   },
   "outputs": [],
   "source": [
    "card1 = Card(2, 11)\n",
    "print(card1)"
   ]
  },
  {
   "cell_type": "markdown",
   "metadata": {},
   "source": [
    "<a name='fig.card1'></a>\n",
    "<img src='figs/card1.png'/>\n",
    "\n",
    "<a href='#fig.card1'>Figure 1</a> is a diagram of the ``Card`` class object and one Card instance. is a class object, so it has type ``type``. ``card1`` has type ``Card``. (To save space, I didn’t draw the contents of `suit_names` and `rank_names`)."
   ]
  },
  {
   "cell_type": "markdown",
   "metadata": {},
   "source": [
    "## Comparing cards\n",
    "\n",
    "For built-in types, there are relational operators (``<``, ``>``, ``==``, etc.) that compare values and determine when one is greater than, less than, or equal to another. For user-defined types, we can override the behavior of the built-in operators by providing a method named `__cmp__`.\n",
    "\n",
    "`__cmp__` takes two parameters, ``self`` and ``other``, and returns a positive number if the first object is greater, a negative number if the second object is greater, and 0 if they are equal to each other.\n",
    "\n",
    "The correct ordering for cards is not obvious. For example, which is better, the 3 of Clubs or the 2 of Diamonds? One has a higher rank, but the other has a higher suit. In order to compare cards, you have to decide whether rank or suit is more important.\n",
    "\n",
    "The answer might depend on what game you are playing, but to keep things simple, we’ll make the arbitrary choice that suit is more important, so all of the Spades outrank all of the Diamonds, and so on.\n",
    "\n",
    "With that decided, we can write `__cmp__`:"
   ]
  },
  {
   "cell_type": "code",
   "execution_count": null,
   "metadata": {
    "collapsed": true
   },
   "outputs": [],
   "source": [
    "class Card(object):\n",
    "    \"\"\"Represents a standard playing card.\"\"\"\n",
    "    suit_names = ['Clubs', 'Diamonds', 'Hearts', 'Spades']\n",
    "    rank_names = [None, 'Ace', '2', '3', '4', '5', '6', '7',\n",
    "                  '8', '9', '10', 'Jack', 'Queen', 'King']\n",
    "\n",
    "    def __init__(self, suit=0, rank=2):\n",
    "        self.suit = suit\n",
    "        self.rank = rank\n",
    "\n",
    "    def __str__(self):\n",
    "        return '%s of %s' % (Card.rank_names[self.rank],\n",
    "                             Card.suit_names[self.suit])\n",
    "\n",
    "    def __cmp__(self, other):\n",
    "        # check the suits\n",
    "        t1 = self.suit, self.rank\n",
    "        t2 = other.suit, other.rank\n",
    "        return cmp(t1, t2)"
   ]
  },
  {
   "cell_type": "markdown",
   "metadata": {},
   "source": [
    "The built-in function ``cmp`` has the same interface as the method `__cmp__`: it takes two values and returns a positive number if the first is larger, a negative number if the second is larger, and 0 if they are equal.\n",
    "\n",
    "In Python 3, ``cmp`` no longer exists, and the `__cmp__` method is not supported. Instead you should provide `__lt__`, which returns ``True`` if ``self`` is less than ``other``. You can implement `__lt__` using tuples and the `<` operator."
   ]
  },
  {
   "cell_type": "markdown",
   "metadata": {},
   "source": [
    "<div style=\"background-color: #FFFFFF; margin-right: 10px; padding-bottom: 8px; padding-left: 8px; padding-right: 8px; padding-top: 8px; border: 2px solid black;\">\n",
    "Write a `__cmp__` method for Time objects. Hint: you can use tuple comparison, but you also might consider using integer subtraction.</div>"
   ]
  },
  {
   "cell_type": "markdown",
   "metadata": {},
   "source": [
    "## Decks\n",
    "\n",
    "Now that we have Cards, the next step is to define Decks. Since a deck is made up of cards, it is natural for each Deck to contain a list of cards as an attribute.\n",
    "\n",
    "The following is a class definition for ``Deck``. The init method creates the attribute ``cards`` and generates the standard set of fifty-two cards:"
   ]
  },
  {
   "cell_type": "code",
   "execution_count": null,
   "metadata": {
    "collapsed": true
   },
   "outputs": [],
   "source": [
    "class Deck(object):\n",
    "\n",
    "    def __init__(self):\n",
    "        self.cards = []\n",
    "        for suit in range(4):\n",
    "            for rank in range(1, 14):\n",
    "                card = Card(suit, rank)\n",
    "                self.cards.append(card)"
   ]
  },
  {
   "cell_type": "markdown",
   "metadata": {},
   "source": [
    "The easiest way to populate the deck is with a nested loop. The outer loop enumerates the suits from 0 to 3. The inner loop enumerates the ranks from 1 to 13. Each iteration creates a new Card with the current suit and rank, and appends it to ``self.cards``."
   ]
  },
  {
   "cell_type": "markdown",
   "metadata": {},
   "source": [
    "## Printing the deck\n",
    "\n",
    "Here is a `__str__` method for ``Deck``:"
   ]
  },
  {
   "cell_type": "code",
   "execution_count": null,
   "metadata": {
    "collapsed": true
   },
   "outputs": [],
   "source": [
    "class Deck(object):\n",
    "\n",
    "    def __init__(self):\n",
    "        self.cards = []\n",
    "        for suit in range(4):\n",
    "            for rank in range(1, 14):\n",
    "                card = Card(suit, rank)\n",
    "                self.cards.append(card)\n",
    "\n",
    "    def __str__(self):\n",
    "        res = []\n",
    "        for card in self.cards:\n",
    "            res.append(str(card))\n",
    "        return '\\n'.join(res)"
   ]
  },
  {
   "cell_type": "markdown",
   "metadata": {},
   "source": [
    "This method demonstrates an efficient way to accumulate a large string: building a list of strings and then using ``join``. The built-in function ``str`` invokes the `__str__` method on each card and returns the string representation.\n",
    "\n",
    "Since we invoke ``join`` on a newline character, the cards are separated by newlines. Here’s what the result looks like:"
   ]
  },
  {
   "cell_type": "code",
   "execution_count": null,
   "metadata": {
    "collapsed": false
   },
   "outputs": [],
   "source": [
    "deck = Deck()\n",
    "print(deck)"
   ]
  },
  {
   "cell_type": "markdown",
   "metadata": {},
   "source": [
    "Even though the result appears on 52 lines, it is one long string that contains newlines."
   ]
  },
  {
   "cell_type": "markdown",
   "metadata": {},
   "source": [
    "## Add, remove, shuffle and sort\n",
    "\n",
    "To deal cards, we would like a method that removes a card from the deck and returns it. The list method ``pop`` provides a convenient way to do that:"
   ]
  },
  {
   "cell_type": "code",
   "execution_count": null,
   "metadata": {
    "collapsed": true
   },
   "outputs": [],
   "source": [
    "class Deck(object):\n",
    "\n",
    "    def __init__(self):\n",
    "        self.cards = []\n",
    "        for suit in range(4):\n",
    "            for rank in range(1, 14):\n",
    "                card = Card(suit, rank)\n",
    "                self.cards.append(card)\n",
    "\n",
    "    def __str__(self):\n",
    "        res = []\n",
    "        for card in self.cards:\n",
    "            res.append(str(card))\n",
    "        return '\\n'.join(res)\n",
    "\n",
    "    def pop_card(self):\n",
    "        return self.cards.pop()"
   ]
  },
  {
   "cell_type": "markdown",
   "metadata": {},
   "source": [
    "Since ``pop`` removes the *last* card in the list, we are dealing from the bottom of the deck. In real life “bottom dealing” is frowned upon, but in this context it’s ok.\n",
    "\n",
    "To add a card, we can use the list method ``append``:"
   ]
  },
  {
   "cell_type": "code",
   "execution_count": null,
   "metadata": {
    "collapsed": true
   },
   "outputs": [],
   "source": [
    "class Deck(object):\n",
    "\n",
    "    def __init__(self):\n",
    "        self.cards = []\n",
    "        for suit in range(4):\n",
    "            for rank in range(1, 14):\n",
    "                card = Card(suit, rank)\n",
    "                self.cards.append(card)\n",
    "\n",
    "    def __str__(self):\n",
    "        res = []\n",
    "        for card in self.cards:\n",
    "            res.append(str(card))\n",
    "        return '\\n'.join(res)\n",
    "\n",
    "    def pop_card(self):\n",
    "        return self.cards.pop()\n",
    "\n",
    "    def add_card(self, card):\n",
    "        self.cards.append(card)"
   ]
  },
  {
   "cell_type": "markdown",
   "metadata": {},
   "source": [
    "A method like this that uses another function without doing much real work is sometimes called a [veneer](glossary.ipynb#veneer). The metaphor comes from woodworking, where it is common to glue a thin layer of good quality wood to the surface of a cheaper piece of wood.\n",
    "\n",
    "In this case we are defining a “thin” method that expresses a list operation in terms that are appropriate for decks.\n",
    "\n",
    "As another example, we can write a Deck method named ``shuffle`` using the function ``shuffle`` from the ``random`` module:"
   ]
  },
  {
   "cell_type": "code",
   "execution_count": null,
   "metadata": {
    "collapsed": true
   },
   "outputs": [],
   "source": [
    "class Deck(object):\n",
    "\n",
    "    def __init__(self):\n",
    "        self.cards = []\n",
    "        for suit in range(4):\n",
    "            for rank in range(1, 14):\n",
    "                card = Card(suit, rank)\n",
    "                self.cards.append(card)\n",
    "\n",
    "    def __str__(self):\n",
    "        res = []\n",
    "        for card in self.cards:\n",
    "            res.append(str(card))\n",
    "        return '\\n'.join(res)\n",
    "\n",
    "    def pop_card(self):\n",
    "        return self.cards.pop()\n",
    "\n",
    "    def add_card(self, card):\n",
    "        self.cards.append(card)\n",
    "\n",
    "    def shuffle(self):\n",
    "        import random\n",
    "        random.shuffle(self.cards)"
   ]
  },
  {
   "cell_type": "markdown",
   "metadata": {},
   "source": [
    "<div style=\"background-color: #FFFFFF; margin-right: 10px; padding-bottom: 8px; padding-left: 8px; padding-right: 8px; padding-top: 8px; border: 2px solid black;\">\n",
    "Write a Deck method named ``sort`` that uses the list method ``sort`` to sort the cards in a ``Deck``. ``sort`` uses the `__cmp__` method we defined to determine sort order.</div>"
   ]
  },
  {
   "cell_type": "markdown",
   "metadata": {},
   "source": [
    "## Inheritance\n",
    "\n",
    "The language feature most often associated with object-oriented programming is [inheritance](glossary.ipynb#inheritance). Inheritance is the ability to define a new class that is a modified version of an existing class.\n",
    "\n",
    "It is called “inheritance” because the new class inherits the methods of the existing class. Extending this metaphor, the existing class is called the [parent](glossary.ipynb#parent_class) and the new class is called the [child](glossary.ipynb#child_class).\n",
    "\n",
    "As an example, let’s say we want a class to represent a “hand,” that is, the set of cards held by one player. A hand is similar to a deck: both are made up of a set of cards, and both require operations like adding and removing cards.\n",
    "\n",
    "A hand is also different from a deck; there are operations we want for hands that don’t make sense for a deck. For example, in poker we might compare two hands to see which one wins. In bridge, we might compute a score for a hand in order to make a bid.\n",
    "\n",
    "This relationship between classes—similar, but different—lends itself to inheritance.\n",
    "\n",
    "The definition of a child class is like other class definitions, but the name of the parent class appears in parentheses:"
   ]
  },
  {
   "cell_type": "code",
   "execution_count": null,
   "metadata": {
    "collapsed": true
   },
   "outputs": [],
   "source": [
    "class Hand(Deck):\n",
    "    \"\"\"Represents a hand of playing cards.\"\"\""
   ]
  },
  {
   "cell_type": "markdown",
   "metadata": {},
   "source": [
    "This definition indicates that ``Hand`` inherits from ``Deck``; that means we can use methods like `pop_card` and `add_card` for Hands as well as Decks.\n",
    "\n",
    "``Hand`` also inherits `__init__` from ``Deck``, but it doesn’t really do what we want: instead of populating the hand with 52 new cards, the init method for Hands should initialize ``cards`` with an empty list.\n",
    "\n",
    "If we provide an init method in the ``Hand`` class, it overrides the one in the ``Deck`` class:"
   ]
  },
  {
   "cell_type": "code",
   "execution_count": null,
   "metadata": {
    "collapsed": true
   },
   "outputs": [],
   "source": [
    "class Hand(Deck):\n",
    "    \"\"\"Represents a hand of playing cards.\"\"\"\n",
    "\n",
    "    def __init__(self, label=''):\n",
    "        self.cards = []\n",
    "        self.label = label"
   ]
  },
  {
   "cell_type": "markdown",
   "metadata": {},
   "source": [
    "So when you create a Hand, Python invokes this init method:"
   ]
  },
  {
   "cell_type": "code",
   "execution_count": null,
   "metadata": {
    "collapsed": false
   },
   "outputs": [],
   "source": [
    "hand = Hand('new hand')\n",
    "print(hand.cards)"
   ]
  },
  {
   "cell_type": "code",
   "execution_count": null,
   "metadata": {
    "collapsed": false
   },
   "outputs": [],
   "source": [
    "print(hand.label)"
   ]
  },
  {
   "cell_type": "markdown",
   "metadata": {},
   "source": [
    "But the other methods are inherited from ``Deck``, so we can use `pop_card` and `add_card` to deal a card:"
   ]
  },
  {
   "cell_type": "code",
   "execution_count": null,
   "metadata": {
    "collapsed": false
   },
   "outputs": [],
   "source": [
    "deck = Deck()\n",
    "card = deck.pop_card()\n",
    "hand.add_card(card)\n",
    "print(hand)"
   ]
  },
  {
   "cell_type": "markdown",
   "metadata": {},
   "source": [
    "A natural next step is to encapsulate this code in a method called `move_cards`:"
   ]
  },
  {
   "cell_type": "code",
   "execution_count": null,
   "metadata": {
    "collapsed": true
   },
   "outputs": [],
   "source": [
    "class Deck(object):\n",
    "\n",
    "    def __init__(self):\n",
    "        self.cards = []\n",
    "        for suit in range(4):\n",
    "            for rank in range(1, 14):\n",
    "                card = Card(suit, rank)\n",
    "                self.cards.append(card)\n",
    "\n",
    "    def __str__(self):\n",
    "        res = []\n",
    "        for card in self.cards:\n",
    "            res.append(str(card))\n",
    "        return '\\n'.join(res)\n",
    "\n",
    "    def pop_card(self):\n",
    "        return self.cards.pop()\n",
    "\n",
    "    def add_card(self, card):\n",
    "        self.cards.append(card)\n",
    "\n",
    "    def shuffle(self):\n",
    "        import random\n",
    "        random.shuffle(self.cards)\n",
    "\n",
    "    def move_cards(self, hand, num):\n",
    "        for i in range(num):\n",
    "            hand.add_card(self.pop_card())"
   ]
  },
  {
   "cell_type": "markdown",
   "metadata": {},
   "source": [
    "`move_cards` takes two arguments, a Hand object and the number of cards to deal. It modifies both ``self`` and ``hand``, and returns ``None``.\n",
    "\n",
    "In some games, cards are moved from one hand to another, or from a hand back to the deck. You can use `move_cards` for any of these operations: ``self`` can be either a Deck or a Hand, and ``hand``, despite the name, can also be a ``Deck``."
   ]
  },
  {
   "cell_type": "markdown",
   "metadata": {},
   "source": [
    "<div style=\"background-color: #FFFFFF; margin-right: 10px; padding-bottom: 8px; padding-left: 8px; padding-right: 8px; padding-top: 8px; border: 2px solid black;\">\n",
    "Write a Deck method called `deal_hands` that takes two parameters, the number of hands and the number of cards per hand, and that creates new Hand objects, deals the appropriate number of cards per hand, and returns a list of Hand objects.</div>"
   ]
  },
  {
   "cell_type": "markdown",
   "metadata": {},
   "source": [
    "Inheritance is a useful feature. Some programs that would be repetitive without inheritance can be written more elegantly with it. Inheritance can facilitate code reuse, since you can customize the behavior of parent classes without having to modify them. In some cases, the inheritance structure reflects the natural structure of the problem, which makes the program easier to understand.\n",
    "\n",
    "On the other hand, inheritance can make programs difficult to read. When a method is invoked, it is sometimes not clear where to find its definition. The relevant code may be scattered among several modules. Also, many of the things that can be done using inheritance can be done as well or better without it."
   ]
  },
  {
   "cell_type": "markdown",
   "metadata": {},
   "source": [
    "## Class diagrams\n",
    "\n",
    "So far we have seen stack diagrams, which show the state of a program, and object diagrams, which show the attributes of an object and their values. These diagrams represent a snapshot in the execution of a program, so they change as the program runs.\n",
    "\n",
    "They are also highly detailed; for some purposes, too detailed. A class diagram is a more abstract representation of the structure of a program. Instead of showing individual objects, it shows classes and the relationships between them.\n",
    "\n",
    "There are several kinds of relationship between classes:\n",
    "\n",
    "-   Objects in one class might contain references to objects in another\n",
    "    class. For example, each Rectangle contains a reference to a Point,\n",
    "    and each Deck contains references to many Cards. This kind of\n",
    "    relationship is called [HAS-A](glossary.ipynb#HASA_relationship), as in,\n",
    "    “a Rectangle has a Point.”\n",
    "\n",
    "-   One class might inherit from another. This relationship is called\n",
    "    [IS-A](glossary.ipynb#ISA_relationship), as in, “a Hand is a kind of a Deck.”\n",
    "\n",
    "-   One class might depend on another in the sense that changes in one\n",
    "    class would require changes in the other.\n",
    "\n",
    "A [class diagram](glossary.ipynb#class_diagram) is a graphical representation of these relationships. For example, <a href='#fig.class1'>Figure 2</a> shows the relationships between ``Card``, ``Deck`` and ``Hand``.\n",
    "\n",
    "<a name='fig.class1'></a>\n",
    "<img src='figs/class1.png'/>\n",
    "\n",
    "The arrow with a hollow triangle head represents an IS-A relationship; in this case it indicates that Hand inherits from Deck.\n",
    "\n",
    "The standard arrow head represents a HAS-A relationship; in this case a Deck has references to Card objects.\n",
    "\n",
    "The star () near the arrow head is a [multiplicity](glossary.ipynb#multiplicity); it indicates how many Cards a Deck has. A multiplicity can be a simple number, like ``52``, a range, like ``5..7`` or a star, which indicates that a Deck can have any number of Cards.\n",
    "\n",
    "A more detailed diagram might show that a Deck actually contains a *list* of Cards, but built-in types like list and dict are usually not included in class diagrams."
   ]
  },
  {
   "cell_type": "markdown",
   "metadata": {},
   "source": [
    "## Debugging\n",
    "\n",
    "Inheritance can make debugging a challenge because when you invoke a method on an object, you might not know which method will be invoked.\n",
    "\n",
    "Suppose you are writing a function that works with Hand objects. You would like it to work with all kinds of Hands, like PokerHands, BridgeHands, etc. If you invoke a method like ``shuffle``, you might get the one defined in ``Deck``, but if any of the subclasses override this method, you’ll get that version instead.\n",
    "\n",
    "Any time you are unsure about the flow of execution through your program, the simplest solution is to add print statements at the beginning of the relevant methods. If ``Deck.shuffle`` prints a message that says something like ``Running Deck.shuffle``, then as the program runs it traces the flow of execution.\n",
    "\n",
    "As an alternative, you could use this function, which takes an object and a method name (as a string) and returns the class that provides the definition of the method:"
   ]
  },
  {
   "cell_type": "code",
   "execution_count": null,
   "metadata": {
    "collapsed": true
   },
   "outputs": [],
   "source": [
    "def find_defining_class(obj, meth_name):\n",
    "    for ty in type(obj).mro():\n",
    "        if meth_name in ty.__dict__:\n",
    "            return ty"
   ]
  },
  {
   "cell_type": "markdown",
   "metadata": {},
   "source": [
    "Here’s an example:"
   ]
  },
  {
   "cell_type": "code",
   "execution_count": null,
   "metadata": {
    "collapsed": false
   },
   "outputs": [],
   "source": [
    "hand = Hand()\n",
    "print(find_defining_class(hand, 'shuffle'))"
   ]
  },
  {
   "cell_type": "markdown",
   "metadata": {},
   "source": [
    "So the ``shuffle`` method for this Hand is the one in ``Deck``.\n",
    "\n",
    "`find_defining_class` uses the ``mro`` method to get the list of class objects (types) that will be searched for methods. “MRO” stands for “method resolution order.”\n",
    "\n",
    "Here’s a program design suggestion: whenever you override a method, the interface of the new method should be the same as the old. It should take the same parameters, return the same type, and obey the same preconditions and postconditions. If you obey this rule, you will find that any function designed to work with an instance of a superclass, like a Deck, will also work with instances of subclasses like a Hand or PokerHand.\n",
    "\n",
    "If you violate this rule, your code will collapse like (sorry) a house of cards."
   ]
  }
 ],
 "metadata": {
  "kernelspec": {
   "display_name": "Python 3",
   "language": "python",
   "name": "python3"
  },
  "language_info": {
   "codemirror_mode": {
    "name": "ipython",
    "version": 3
   },
   "file_extension": ".py",
   "mimetype": "text/x-python",
   "name": "python",
   "nbconvert_exporter": "python",
   "pygments_lexer": "ipython3"
  }
 },
 "nbformat": 4,
 "nbformat_minor": 0
}
