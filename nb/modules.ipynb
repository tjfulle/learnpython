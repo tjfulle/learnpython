{
 "cells": [
  {
   "cell_type": "markdown",
   "metadata": {},
   "source": [
    "# Modules"
   ]
  },
  {
   "cell_type": "markdown",
   "metadata": {},
   "source": [
    "The utility of programs written in Python is greatly expanded by making use of the hundreds of [modules](glossary.ipynb#module) that contain functions and features that extend Python's core capabilities.  A module is a file containing Python definitions and statements. The file name is the module name with the suffix `.py` appended (this is not strictly true, other suffixes are allowed, but `.py` is the most common).  For instance, Python provides a `math` module defining math related constants and functions.  The contents of the `math` module (or any other module) are accessed by [importing](glossary.ipynb#import) the module in to the current file (or notebook):"
   ]
  },
  {
   "cell_type": "code",
   "execution_count": null,
   "metadata": {
    "collapsed": true
   },
   "outputs": [],
   "source": [
    "import math"
   ]
  },
  {
   "cell_type": "markdown",
   "metadata": {},
   "source": [
    "The import statement creates a [module object](glossary.ipynb#module_object) named math. If you print the module object, you get some information about it:"
   ]
  },
  {
   "cell_type": "code",
   "execution_count": null,
   "metadata": {
    "collapsed": false
   },
   "outputs": [],
   "source": [
    "print(math)"
   ]
  },
  {
   "cell_type": "markdown",
   "metadata": {},
   "source": [
    "The module object contains the functions and variables defined in the module. To access one of the functions, you have to specify the name of the module and the name of the function, separated by a dot (also known as a period). This format is called [dot notation](glossary.ipynb#dot_notation)."
   ]
  },
  {
   "cell_type": "code",
   "execution_count": null,
   "metadata": {
    "collapsed": false
   },
   "outputs": [],
   "source": [
    "signal_power = 41. # dBm\n",
    "noise_power = 50. # dBm\n",
    "ratio = signal_power / noise_power\n",
    "decibels = 10 * math.log10(ratio)\n",
    "decibels"
   ]
  },
  {
   "cell_type": "code",
   "execution_count": null,
   "metadata": {
    "collapsed": false
   },
   "outputs": [],
   "source": [
    "radians = 0.7\n",
    "height = math.sin(radians)\n",
    "height"
   ]
  },
  {
   "cell_type": "markdown",
   "metadata": {},
   "source": [
    "The first example uses `log10` to compute a signal-to-noise ratio in decibels (assuming that `signal_power` and `noise_power` are defined). The math module also provides ``log``, which computes logarithms base ``e``.\n",
    "\n",
    "The second example finds the sine of ``radians``. The name of the variable is a hint that ``sin`` and the other trigonometric functions (``cos``, ``tan``, etc.) take arguments in radians. To convert from degrees to radians, divide by 360 and multiply by $2 \\pi$:"
   ]
  },
  {
   "cell_type": "code",
   "execution_count": null,
   "metadata": {
    "collapsed": false
   },
   "outputs": [],
   "source": [
    "degrees = 45\n",
    "radians = degrees / 180. * math.pi\n",
    "math.sin(radians)"
   ]
  },
  {
   "cell_type": "markdown",
   "metadata": {},
   "source": [
    "The expression ``math.pi`` gets the variable ``pi`` from the math module. The value of this variable is an approximation of $\\pi$, accurate to about 15 digits.\n",
    "\n",
    "If you know your trigonometry, you can check the previous result by comparing it to the square root of two divided by two:"
   ]
  },
  {
   "cell_type": "code",
   "execution_count": null,
   "metadata": {
    "collapsed": false
   },
   "outputs": [],
   "source": [
    "math.sqrt(2) / 2.0"
   ]
  },
  {
   "cell_type": "markdown",
   "metadata": {},
   "source": [
    "## Namespaces\n",
    "\n",
    "Generally speaking, a namespace is a naming system for making names unique to avoid ambiguity. Everybody knows a namespacing system from daily life, i.e. the naming of people in first name and familiy name (surname).  Another example is the directory structure of file systems. The same file name can be used in different directories, the files can be uniquely accessed via the pathnames. \n",
    "\n",
    "Python `modules` provide a type of namespace.  For instance, the `math` module defines the `math` namespace.  The `math` namespace was imported in to the current file (notebook) namespace by the `import` statement.  The `sqrt`, `cos`, `sin`, etc. functions are associated with the `math` namespace and are only accessible via the dot operator.\n",
    "\n",
    "Each module has its own private namespace, which is used to define global definitions and statements that are available to all functions defined in the module. Thus, the author of a module can use global variables in the module without worrying about accidental clashes with a user’s global variables.\n",
    "\n",
    "Modules can import other modules. It is customary but not required to place all import statements at the beginning of a module (or script, for that matter). The imported module names are placed in the importing module’s global symbol table.  The *importing* module accesses items in the *imported* modules namespace via the dot operator."
   ]
  },
  {
   "cell_type": "markdown",
   "metadata": {},
   "source": [
    "## Alternative methods of importing modules\n",
    "\n",
    "Python provides several ways to import modules; we have already seen one:"
   ]
  },
  {
   "cell_type": "code",
   "execution_count": null,
   "metadata": {
    "collapsed": false
   },
   "outputs": [],
   "source": [
    "import math\n",
    "print(math)\n",
    "print(math.pi)"
   ]
  },
  {
   "cell_type": "markdown",
   "metadata": {},
   "source": [
    "### Importing with \"from\"\n",
    "\n",
    "If you import ``math``, you get a module object named ``math``. The module object contains constants like ``pi`` and functions like ``sin`` and ``exp``.\n",
    "\n",
    "But if you try to access ``pi`` directly, you get an error."
   ]
  },
  {
   "cell_type": "code",
   "execution_count": null,
   "metadata": {
    "collapsed": false
   },
   "outputs": [],
   "source": [
    "print(pi)"
   ]
  },
  {
   "cell_type": "markdown",
   "metadata": {},
   "source": [
    "As an alternative, you can import an object from a module like this:"
   ]
  },
  {
   "cell_type": "code",
   "execution_count": null,
   "metadata": {
    "collapsed": true
   },
   "outputs": [],
   "source": [
    "from math import pi"
   ]
  },
  {
   "cell_type": "markdown",
   "metadata": {},
   "source": [
    "Now you can access ``pi`` directly, without dot notation."
   ]
  },
  {
   "cell_type": "code",
   "execution_count": null,
   "metadata": {
    "collapsed": false
   },
   "outputs": [],
   "source": [
    "print(pi)"
   ]
  },
  {
   "cell_type": "markdown",
   "metadata": {},
   "source": [
    "Or you can use the star operator to import *everything* from the module:"
   ]
  },
  {
   "cell_type": "code",
   "execution_count": null,
   "metadata": {
    "collapsed": false
   },
   "outputs": [],
   "source": [
    "from math import *\n",
    "cos(pi)"
   ]
  },
  {
   "cell_type": "markdown",
   "metadata": {},
   "source": [
    "The advantage of importing everything from the math module is that your code can be more concise. The disadvantage is that there might be conflicts between names defined in different modules, or between a name from a module and one of your variables."
   ]
  },
  {
   "cell_type": "markdown",
   "metadata": {},
   "source": [
    "### Import with \"as\"\n",
    "\n",
    "The `as` keyword allows changing the name of the namespace being imported.  For example"
   ]
  },
  {
   "cell_type": "code",
   "execution_count": null,
   "metadata": {
    "collapsed": false
   },
   "outputs": [],
   "source": [
    "import math as m\n",
    "print(m)\n",
    "print(m.pi)"
   ]
  },
  {
   "cell_type": "markdown",
   "metadata": {},
   "source": [
    "An advantage of importing with `as` is it provides a mechanism for avoiding name clashes in the event that modules, or their contents, have the same name.  For examples, the file `aux/constants.py` defines several constants, one of which is `pi`.  To avoid name conflicts with `pi` from the math module, we could do"
   ]
  },
  {
   "cell_type": "code",
   "execution_count": null,
   "metadata": {
    "collapsed": false
   },
   "outputs": [],
   "source": [
    "from math import pi\n",
    "from aux.constants import pi as Pi\n",
    "\n",
    "print(pi, Pi)"
   ]
  },
  {
   "cell_type": "markdown",
   "metadata": {},
   "source": [
    "<div style=\"background-color: #FFFFFF; margin-right: 10px; padding-bottom: 8px; padding-left: 8px; padding-right: 8px; padding-top: 8px; border: 2px solid black;\">For efficiency reasons, each module is only imported once per interpreter session. Therefore, if you change your modules, you must restart the interpreter – or, if it’s just one module you want to test interactively, use `reload()`, e.g. `reload(modulename)`.</div>"
   ]
  },
  {
   "cell_type": "markdown",
   "metadata": {},
   "source": [
    "## Module search path\n",
    "\n",
    "When a module named `spam` is imported, the interpreter first searches for a built-in module with that name. If not found, it then searches for a file named `spam.py` in a list of directories given by the variable `sys.path`. `sys.path` is initialized from these locations:\n",
    "\n",
    "- the directory containing the input script (or the current directory).\n",
    "- PYTHONPATH (a list of directory names, with the same syntax as the shell variable PATH).\n",
    "- the installation-dependent default.\n",
    "\n",
    "After initialization, Python programs can modify `sys.path`. The directory containing the script being run is placed at the beginning of the search path, ahead of the standard library path. This means that scripts in that directory will be loaded instead of modules of the same name in the library directory. This is an error unless the replacement is intended. See [Standard Modules](https://docs.python.org/2/tutorial/modules.html#tut-standardmodules) for more information."
   ]
  },
  {
   "cell_type": "markdown",
   "metadata": {},
   "source": [
    "## Executing a module as a script\n",
    "\n",
    "When you run a Python module with\n",
    "\n",
    "    python spam.py <arguments>\n",
    "    \n",
    "the code in the module will be executed, just as if you imported it, but with the `__name__` set to `\"__main__\"`. That means that by adding this code at the end of your module:\n",
    "\n",
    "    if __name__ == \"__main__\":\n",
    "        import sys\n",
    "        main(int(sys.argv[1:]))\n",
    "        \n",
    "you can make the file usable as a script as well as an importable module, because the code that parses the command line only runs if the module is executed as the “main” file:"
   ]
  },
  {
   "cell_type": "code",
   "execution_count": null,
   "metadata": {
    "collapsed": false
   },
   "outputs": [],
   "source": [
    "! python aux/spam.py"
   ]
  },
  {
   "cell_type": "code",
   "execution_count": null,
   "metadata": {
    "collapsed": true
   },
   "outputs": [],
   "source": [
    "import aux.spam"
   ]
  },
  {
   "cell_type": "markdown",
   "metadata": {},
   "source": [
    "This is often used either to provide a convenient user interface to a module, or for testing purposes (e.g., running the module as a script executes a test suite)."
   ]
  },
  {
   "cell_type": "markdown",
   "metadata": {},
   "source": [
    "## Packages"
   ]
  },
  {
   "cell_type": "markdown",
   "metadata": {},
   "source": [
    "`aux` from the previous import is an example of a package.  Packages are a way of structuring Python’s module namespace by using “dotted module names”. For example, the module name `aux.spam` designates a submodule named `spam` in a package named `aux`. Just like the use of modules saves the authors of different modules from having to worry about each other’s global variable names, the use of dotted module names saves the authors of multi-module packages like NumPy or the Python Imaging Library from having to worry about each other’s module names.\n",
    "\n",
    "Suppose you want to design a collection of modules (a “package”) for a game.  There are many different components to a game, so you may need to create and maintain a growing collection of modules for each.  Here’s a possible structure for your package (expressed in terms of a hierarchical filesystem):\n",
    "\n",
    "<img src='figs/package.png' style='width:75%'/>\n",
    "                  "
   ]
  },
  {
   "cell_type": "markdown",
   "metadata": {},
   "source": [
    "When importing the package, Python searches through the directories on `sys.path` looking for the package subdirectory.\n",
    "\n",
    "The `__init__.py` files are required to make Python treat the directories as containing packages; this is done to prevent directories with a common name, such as string, from unintentionally hiding valid modules that occur later on the module search path. In the simplest case, `__init__.py` can just be an empty file, but it can also execute initialization code for the package."
   ]
  },
  {
   "cell_type": "markdown",
   "metadata": {},
   "source": [
    "Users of the package can import individual modules from the package, for example:\n",
    "\n",
    "    import game.image.change\n",
    "    \n",
    "This loads the submodule `game.image.change`. It must be referenced with its full name.\n",
    "\n",
    "    game.image.change.open_image(filename)\n",
    "    \n",
    "An alternative way of importing the submodule is:\n",
    "\n",
    "    from game.image import change\n",
    "    \n",
    "This also loads the submodule `change`, and makes it available without its package prefix, so it can be used as follows:\n",
    "\n",
    "    game.open_image(filename)\n",
    "    \n",
    "Yet another variation is to import the desired function or variable directly:\n",
    "\n",
    "    from game.image.change import open_image\n",
    "    \n",
    "Again, this loads the submodule `change`, but this makes its function `open_image()` directly available:\n",
    "\n",
    "    open_image(filename)\n",
    "    \n",
    "Note that when using \"`from package import item`\", the item can be either a submodule (or subpackage) of the package, or some other name defined in the package, like a function, class or variable. The import statement first tests whether the item is defined in the package; if not, it assumes it is a module and attempts to load it. If it fails to find it, an `ImportError` exception is raised.\n",
    "\n",
    "Contrarily, when using syntax like import `item.subitem.subsubitem`, each item except for the last must be a package; the last item can be a module or a package but can’t be a class or function or variable defined in the previous item.  "
   ]
  }
 ],
 "metadata": {
  "kernelspec": {
   "display_name": "Python 3",
   "language": "python",
   "name": "python3"
  },
  "language_info": {
   "codemirror_mode": {
    "name": "ipython",
    "version": 3
   },
   "file_extension": ".py",
   "mimetype": "text/x-python",
   "name": "python",
   "nbconvert_exporter": "python",
   "pygments_lexer": "ipython3"
  }
 },
 "nbformat": 4,
 "nbformat_minor": 0
}
