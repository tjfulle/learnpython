{
 "cells": [
  {
   "cell_type": "markdown",
   "metadata": {},
   "source": [
    "# Contents"
   ]
  },
  {
   "cell_type": "markdown",
   "metadata": {},
   "source": [
    "## The IPython Notebook\n",
    "\n",
    "1. [Introduction to the IPython Notebook](nb/IPython_Notebook.ipynb)"
   ]
  },
  {
   "cell_type": "markdown",
   "metadata": {},
   "source": [
    "## Crash Course\n",
    "\n",
    "1. [A Crash Course in Python](nb/overview.ipynb)"
   ]
  },
  {
   "cell_type": "markdown",
   "metadata": {},
   "source": [
    "## Learn Python\n",
    "\n",
    "Many of the following notebooks are adapted from Professor Allen B. Downey's [Think Python: How to Think Like a Computer Scientist](http://www.thinkpython.com).\n",
    "\n",
    "2. [Introduction to Programming](nb/the_way_of_the_program.ipynb)\n",
    "3. [Variables, Expressions, and Statements](nb/variables_expressions_and_statements.ipynb)\n",
    "4. [Introduction to Functions](nb/functions.ipynb)\n",
    "5. [Conditionals and Recursion](nb/conditionals_and_recursion.ipynb)\n",
    "6. [More Functions](nb/fruitful_functions.ipynb)\n",
    "7. [Iteration](nb/iteration.ipynb)\n",
    "8. [Strings](nb/strings.ipynb)\n",
    "9. [Lists](nb/lists.ipynb)\n",
    "10. [Dictionaries](nb/dictionaries.ipynb)\n",
    "11. [Tuples](nb/tuples.ipynb)\n",
    "12. [Files and filesystems](nb/files.ipynb)\n",
    "13. [Modules](nb/modules.ipynb)\n",
    "14. [Classes and Objects](nb/classes_and_objects.ipynb)\n",
    "15. [Classes and Functions](nb/classes_and_functions.ipynb)\n",
    "16. [Classes and Methods](nb/classes_and_methods.ipynb)\n",
    "17. [Inheritance](nb/inheritance.ipynb)"
   ]
  },
  {
   "cell_type": "markdown",
   "metadata": {},
   "source": [
    "## Topics\n",
    "\n",
    "3. [Subprocess Control](nb/subprocess.ipynb)\n",
    "5. [Regular Expressions](nb/regex.ipynb)"
   ]
  },
  {
   "cell_type": "markdown",
   "metadata": {},
   "source": [
    "## Numerical Python\n",
    "1. [NumPy ndarray](nb/numpy_1.ipynb)\n",
    "2. [NumPy, linalg](nb/numpy_2.ipynb)\n",
    "3. [Pandas](nb/pandas.ipynb)\n",
    "3. [Plotting with Matplotlib](nb/matplotlib.ipynb)\n",
    "4. [Optimization with Scipy](nb/scipy_1.ipynb)\n",
    "5. [SymPy](nb/sympy.ipynb)"
   ]
  },
  {
   "cell_type": "markdown",
   "metadata": {},
   "source": [
    "## Index and glossary\n",
    "\n",
    "1. [Index of Topics](nb/index.ipynb)\n",
    "2. [Glossary](nb/glossary.ipynb)"
   ]
  },
  {
   "cell_type": "markdown",
   "metadata": {},
   "source": [
    "# Introduction\n",
    "\n",
    "I was first introduced to the Python programming language as a graduate student by my advisor ([Professor Rebecca Brannon](https://faculty.utah.edu/u0551466-REBECCA_M_BRANNON/research/index.hml)).  Her introduction consisted of telling me that she thought that Python might be a viable tool for research in computational mechanics, though she herself had not used it.  I took the suggestion to heart and Python quickly replaced many tools that I had been using up to that point: Excel, matlab, Mathematica, Maple, bash, etc.  It also replaced, to a certain extent, languages such as C/C++/Fortran - I would write and test algorithms in Python and port them to these other languages when I was satisfied (and only if I had reason to port them).\n",
    "\n",
    "Since graduating, I've continued to use Python in my roles in academia, research, and industry.  In that time, I've interacted with many colleagues and students who have expressed interest in learning and using Python in their own workflows.  However, the seemingly high bar of learning a new programming language has overshadowed the perceived benefits.  This collection of [IPython Notebooks](http://ipython.org/notebook.html) is my attempt to put together in one place the materials that I find most useful.\n",
    "\n",
    "Tim Fuller, PhD"
   ]
  },
  {
   "cell_type": "markdown",
   "metadata": {},
   "source": [
    "## A note about Python distributions\n",
    "\n",
    "Most major operating systems come with Python pre-packaged.  However, the pre-packaged versions are not ready for use in scientific computing and additional packages must be installed.  The installation process and dependency tracking of each pacakage has historically been very tedious and prone to errors.  Rather than open that can of worms, it is best to download and install either the [Anaconda](http://continuum.io) or [Enthought Canopy](http://enthought.com) python distributions.  Each are free, are available on most major operating systems, and come pre-packaged with all of the tools needed to start exploring the computational sciences."
   ]
  },
  {
   "cell_type": "markdown",
   "metadata": {},
   "source": [
    "# License\n",
    "\n",
    "Permission is granted to copy, distribute, and/or modify this document under the terms of the [Creative Commons Attribution-NonCommercial 3.0 Unported License](http://creativecommons.org/licenses/by-nc/3.0)."
   ]
  }
 ],
 "metadata": {
  "kernelspec": {
   "display_name": "Python 3 (ipykernel)",
   "language": "python",
   "name": "python3"
  },
  "language_info": {
   "codemirror_mode": {
    "name": "ipython",
    "version": 3
   },
   "file_extension": ".py",
   "mimetype": "text/x-python",
   "name": "python",
   "nbconvert_exporter": "python",
   "pygments_lexer": "ipython3",
   "version": "3.7.11"
  }
 },
 "nbformat": 4,
 "nbformat_minor": 4
}
